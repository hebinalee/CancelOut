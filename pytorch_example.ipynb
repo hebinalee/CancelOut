{
  "nbformat": 4,
  "nbformat_minor": 0,
  "metadata": {
    "kernelspec": {
      "display_name": "Python 3",
      "language": "python",
      "name": "python3"
    },
    "language_info": {
      "codemirror_mode": {
        "name": "ipython",
        "version": 3
      },
      "file_extension": ".py",
      "mimetype": "text/x-python",
      "name": "python",
      "nbconvert_exporter": "python",
      "pygments_lexer": "ipython3",
      "version": "3.7.1"
    },
    "colab": {
      "name": "example.ipynb",
      "provenance": []
    }
  },
  "cells": [
    {
      "cell_type": "code",
      "metadata": {
        "id": "KzoK41iGkuZs",
        "colab_type": "code",
        "colab": {}
      },
      "source": [
        "import numpy as np\n",
        "import pandas as pd\n",
        "\n",
        "from sklearn.ensemble import GradientBoostingClassifier, RandomForestClassifier\n",
        "from sklearn.model_selection import cross_val_score, StratifiedKFold\n",
        "from sklearn.neighbors import KNeighborsClassifier\n",
        "from sklearn.metrics import make_scorer, roc_auc_score\n",
        "\n",
        "\n",
        "# load pytorch\n",
        "import torch\n",
        "import torch.nn as nn\n",
        "from torch.utils.data import Dataset, DataLoader\n",
        "# from torchsummary import summary \n",
        "\n",
        "\n",
        "\n",
        "import matplotlib.pyplot as plt\n",
        "import seaborn as sns \n",
        "sns.set(style=\"whitegrid\", font_scale=1.3)\n"
      ],
      "execution_count": 0,
      "outputs": []
    },
    {
      "cell_type": "markdown",
      "metadata": {
        "id": "Me1KgfEzkuZv",
        "colab_type": "text"
      },
      "source": [
        "# Load & Scale Datasetes"
      ]
    },
    {
      "cell_type": "code",
      "metadata": {
        "id": "EzaI8n8RkuZw",
        "colab_type": "code",
        "colab": {}
      },
      "source": [
        "from sklearn.datasets import load_breast_cancer\n",
        "from sklearn.preprocessing import StandardScaler\n",
        "\n",
        "scaler = StandardScaler()\n",
        "X1 = scaler.fit_transform(load_breast_cancer()['data'])\n",
        "y1 = load_breast_cancer()['target']"
      ],
      "execution_count": 0,
      "outputs": []
    },
    {
      "cell_type": "markdown",
      "metadata": {
        "id": "EjuJrI7VkuZ6",
        "colab_type": "text"
      },
      "source": [
        "# CancelOut Layer "
      ]
    },
    {
      "cell_type": "code",
      "metadata": {
        "id": "cOM4FZjjkuZ7",
        "colab_type": "code",
        "colab": {}
      },
      "source": [
        "class CancelOut(nn.Module):\n",
        "    '''\n",
        "    CancelOut Layer\n",
        "    \n",
        "    x - an input data (vector, matrix, tensor)\n",
        "    '''\n",
        "    def __init__(self,inp, *kargs, **kwargs):\n",
        "        super(CancelOut, self).__init__()\n",
        "        self.weights = nn.Parameter(torch.zeros(inp,requires_grad = True)+4)\n",
        "    def forward(self, x):\n",
        "        return (x * torch.sigmoid(self.weights.float()))"
      ],
      "execution_count": 0,
      "outputs": []
    },
    {
      "cell_type": "code",
      "metadata": {
        "id": "QfwqyO2ZkuZ9",
        "colab_type": "code",
        "colab": {}
      },
      "source": [
        "class NeuralNet(nn.Module):\n",
        "    '''\n",
        "    A simple DL model. \n",
        "    '''\n",
        "    def __init__(self, input_size, hidden_size, num_classes):\n",
        "        super(NeuralNet, self).__init__()\n",
        "        self.cancelout = CancelOut(input_size)\n",
        "        self.fc1 = nn.Linear(input_size, hidden_size) \n",
        "        self.relu = nn.ReLU()\n",
        "        self.fc2 = nn.Linear(hidden_size,hidden_size)\n",
        "        self.fc3 = nn.Linear(hidden_size,num_classes)\n",
        "\n",
        "    def forward(self, x):\n",
        "        x = self.cancelout(x)\n",
        "        x = self.fc1(x)\n",
        "        x = self.relu(x)\n",
        "        x = self.fc2(x)\n",
        "        x = self.relu(x)\n",
        "        x = self.fc3(x)\n",
        "        return x\n",
        "\n",
        "class myDataset(Dataset):\n",
        "    '''\n",
        "    a dataset loader \n",
        "    '''\n",
        "    def __init__(self, X, y):\n",
        "        self.X = X\n",
        "        self.y = y\n",
        "    def __getitem__(self, index):\n",
        "        return self.X[index], self.y[index]\n",
        "    def __len__(self):\n",
        "        return len(self.X)"
      ],
      "execution_count": 0,
      "outputs": []
    },
    {
      "cell_type": "markdown",
      "metadata": {
        "id": "wnfvS1I7Pk8E",
        "colab_type": "text"
      },
      "source": [
        ""
      ]
    },
    {
      "cell_type": "code",
      "metadata": {
        "id": "uYBmOGrckuZ_",
        "colab_type": "code",
        "colab": {}
      },
      "source": [
        ""
      ],
      "execution_count": 0,
      "outputs": []
    },
    {
      "cell_type": "code",
      "metadata": {
        "id": "TmH_ZaefkuaB",
        "colab_type": "code",
        "colab": {}
      },
      "source": [
        "def CV_test(X,y):\n",
        "    '''\n",
        "    StratifiedKFold Cross-Validation with KNeighborsClassifier\n",
        "    '''\n",
        "    score = []\n",
        "    for i_n in [11,23,3]:\n",
        "        cv = StratifiedKFold(5, random_state=i_n*10)\n",
        "        clf = KNeighborsClassifier(n_neighbors=i_n,n_jobs=-1)\n",
        "        score.append(cross_val_score(clf, X, y, cv=cv, scoring=make_scorer(roc_auc_score)).mean())\n",
        "    return np.mean(score)\n",
        "\n",
        "def compare_fi(X,y,d, debug=False):\n",
        "    '''\n",
        "    Compare feature selection methods\n",
        "    '''\n",
        "    nn_lst = []\n",
        "    gb_list = []\n",
        "    acc_nn, acc_gg = [], []\n",
        "    \n",
        "    for f_nn, f_gb in zip(d['nn'], d['gb']):\n",
        "        nn_lst.append(f_nn)\n",
        "        gb_list.append(f_gb)\n",
        "        if debug:\n",
        "            print(nn_lst)\n",
        "            print(gb_list)\n",
        "        acc_nn.append(CV_test(X[:,nn_lst], y).mean())\n",
        "        acc_gg.append(CV_test(X[:,gb_list], y).mean())\n",
        "    return acc_nn, acc_gg\n",
        "\n",
        "def feature_extraction(X, y, f_number):\n",
        "    \n",
        "    feature_weights = {}\n",
        "    # Gradient Boosting FS\n",
        "    forest = GradientBoostingClassifier(n_estimators=50,random_state=0)\n",
        "    forest.fit(X, y)\n",
        "    gb_importances = forest.feature_importances_\n",
        "    \n",
        "    # NN FS\n",
        "    cancelout_weights_importance = train_ann(X, y, num_epochs = 100)\n",
        "    print(\"CancelOut weights after the activation function:\")\n",
        "    print(torch.sigmoid(torch.tensor(cancelout_weights_importance)),'\\n')\n",
        "    # selecting first 5 features \n",
        "    feature_weights['nn'] = cancelout_weights_importance.argsort()[::-1]\n",
        "    feature_weights['gb'] = gb_importances.argsort()[::-1]\n",
        "    nn_fi = cancelout_weights_importance.argsort()[-f_number:][::-1]\n",
        "    gb_fi = gb_importances.argsort()[-f_number:][::-1]\n",
        "    \n",
        "    print('Features selected using ANN with CancelOut', sorted(nn_fi))\n",
        "    print('Features selected using GB ',sorted(gb_fi))\n",
        "    \n",
        "    print(f'CV score from all features: {CV_test( X, y)}')\n",
        "    print(f'CV score GB FS: {CV_test(X[:,gb_fi], y)}')\n",
        "    print(f'CV score NN FS: {CV_test(X[:,nn_fi], y)}')\n",
        "    \n",
        "    return feature_weights\n",
        "\n",
        "\n",
        "def TestBench(X,y):\n",
        "    d = feature_extraction(X, y, 5)\n",
        "    acc_nn, acc_gg = compare_fi(X,y, d, debug=False)\n",
        "    plt.plot(np.array(acc_gg), 'r', label='FS using GradientBoosting')\n",
        "    plt.plot(np.array(acc_nn), 'g', label='FS using NN with CancelOut layer')\n",
        "    plt.legend(loc='best')\n",
        "    plt.xlabel('Number of Features')\n",
        "    plt.ylabel('AUC')\n",
        "    plt.xlim(1, X.shape[1]-1)\n",
        "    plt.tight_layout()"
      ],
      "execution_count": 0,
      "outputs": []
    },
    {
      "cell_type": "code",
      "metadata": {
        "id": "p-X49wZxX4to",
        "colab_type": "code",
        "colab": {}
      },
      "source": [
        "def train_ann(X,y,num_epochs):\n",
        "    \n",
        "    model = NeuralNet(X.shape[1],X.shape[1]+10,2)\n",
        "    mydataset = myDataset(X,y)\n",
        "    batch_size = 32 \n",
        "    train_loader = torch.utils.data.DataLoader(dataset=mydataset,\n",
        "                                               batch_size=batch_size, \n",
        "                                               shuffle=True)\n",
        "    criterion = nn.CrossEntropyLoss()  \n",
        "    \n",
        "    optimizer = torch.optim.Adam(model.parameters(), lr=0.005)  \n",
        "\n",
        "    for epoch in range(num_epochs):\n",
        "        for i, (sample, labels) in enumerate(train_loader):\n",
        "            # Forward pass\n",
        "            outputs = model(sample.float())\n",
        "            \n",
        "            # cancelout regularization\n",
        "            number_of_features = X.shape[1] # optional \n",
        "            weights_co = torch.sigmoid(list(model.cancelout.parameters())[0])\n",
        "            l1_norm = torch.norm(weights_co, 1)\n",
        "            var = torch.var(list(model.cancelout.parameters())[0]) # optional \n",
        "            lambda_1 = 0.001\n",
        "            lambda_2 = 0.001\n",
        "            loss = criterion(outputs, labels) + lambda_1 * l1_norm  - lambda_2 * var\n",
        "            # Backward and optimize\n",
        "            optimizer.zero_grad()\n",
        "            loss.backward()\n",
        "            optimizer.step()\n",
        "    return list(model.cancelout.parameters())[0].detach().numpy()"
      ],
      "execution_count": 0,
      "outputs": []
    },
    {
      "cell_type": "code",
      "metadata": {
        "id": "i4YXNJ2TkuaF",
        "colab_type": "code",
        "colab": {
          "base_uri": "https://localhost:8080/",
          "height": 472
        },
        "outputId": "3ef277aa-e018-424b-e9a2-62b4aefd43be"
      },
      "source": [
        "torch.manual_seed(0)\n",
        "\n",
        "TestBench(X1,y1)"
      ],
      "execution_count": 133,
      "outputs": [
        {
          "output_type": "stream",
          "text": [
            "CancelOut weights after the activation function:\n",
            "tensor([0.0076, 1.0000, 0.7670, 0.0361, 0.0093, 0.9925, 0.1463, 0.9998, 0.0020,\n",
            "        0.6710, 1.0000, 0.0222, 0.9999, 1.0000, 0.8583, 0.9970, 0.0025, 0.0374,\n",
            "        0.9996, 0.9997, 1.0000, 0.9999, 0.7840, 1.0000, 0.9999, 0.0875, 1.0000,\n",
            "        1.0000, 0.9998, 0.9998]) \n",
            "\n",
            "Features selected using ANN with CancelOut [1, 13, 20, 23, 27]\n",
            "Features selected using GB  [7, 20, 21, 22, 27]\n",
            "CV score from all features: 0.9473095896654691\n",
            "CV score GB FS: 0.958303199905722\n",
            "CV score NN FS: 0.9509773108937866\n"
          ],
          "name": "stdout"
        },
        {
          "output_type": "display_data",
          "data": {
            "image/png": "[encoded data removed]",
            "text/plain": [
              "<Figure size 432x288 with 1 Axes>"
            ]
          },
          "metadata": {
            "tags": []
          }
        }
      ]
    },
    {
      "cell_type": "code",
      "metadata": {
        "id": "Vhkc91H1Y0kh",
        "colab_type": "code",
        "colab": {}
      },
      "source": [
        ""
      ],
      "execution_count": 0,
      "outputs": []
    }
  ]
}